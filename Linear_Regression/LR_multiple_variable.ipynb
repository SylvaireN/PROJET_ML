{
 "cells": [
  {
   "cell_type": "markdown",
   "id": "6c3bc9d3",
   "metadata": {},
   "source": [
    "Linear Regression with multiple variable"
   ]
  },
  {
   "cell_type": "code",
   "execution_count": null,
   "id": "71e337b8",
   "metadata": {
    "vscode": {
     "languageId": "plaintext"
    }
   },
   "outputs": [],
   "source": []
  }
 ],
 "metadata": {
  "language_info": {
   "name": "python"
  }
 },
 "nbformat": 4,
 "nbformat_minor": 5
}
